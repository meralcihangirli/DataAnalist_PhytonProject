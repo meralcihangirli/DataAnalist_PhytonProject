{
  "metadata": {
    "kernelspec": {
      "name": "python",
      "display_name": "Python (Pyodide)",
      "language": "python"
    },
    "language_info": {
      "codemirror_mode": {
        "name": "python",
        "version": 3
      },
      "file_extension": ".py",
      "mimetype": "text/x-python",
      "name": "python",
      "nbconvert_exporter": "python",
      "pygments_lexer": "ipython3",
      "version": "3.8"
    }
  },
  "nbformat_minor": 4,
  "nbformat": 4,
  "cells": [
    {
      "cell_type": "code",
      "source": "import pandas as pd\nimport numpy as np\n\ndf=pd.read_csv(\"nobel.csv\")",
      "metadata": {
        "trusted": true,
        "tags": [],
        "editable": true,
        "slideshow": {
          "slide_type": ""
        }
      },
      "outputs": [],
      "execution_count": 1
    },
    {
      "cell_type": "code",
      "source": "df.head(10)",
      "metadata": {
        "trusted": true,
        "tags": [],
        "editable": true,
        "slideshow": {
          "slide_type": ""
        },
        "scrolled": true
      },
      "outputs": [
        {
          "execution_count": 7,
          "output_type": "execute_result",
          "data": {
            "text/plain": "   year    category                                           prize  \\\n0  1901   Chemistry               The Nobel Prize in Chemistry 1901   \n1  1901  Literature              The Nobel Prize in Literature 1901   \n2  1901    Medicine  The Nobel Prize in Physiology or Medicine 1901   \n3  1901       Peace                      The Nobel Peace Prize 1901   \n4  1901       Peace                      The Nobel Peace Prize 1901   \n5  1901     Physics                 The Nobel Prize in Physics 1901   \n6  1902   Chemistry               The Nobel Prize in Chemistry 1902   \n7  1902  Literature              The Nobel Prize in Literature 1902   \n8  1902    Medicine  The Nobel Prize in Physiology or Medicine 1902   \n9  1902       Peace                      The Nobel Peace Prize 1902   \n\n                                          motivation prize_share  laureate_id  \\\n0  \"in recognition of the extraordinary services ...         1/1          160   \n1  \"in special recognition of his poetic composit...         1/1          569   \n2  \"for his work on serum therapy, especially its...         1/1          293   \n3                                                NaN         1/2          462   \n4                                                NaN         1/2          463   \n5  \"in recognition of the extraordinary services ...         1/1            1   \n6  \"in recognition of the extraordinary services ...         1/1          161   \n7  \"the greatest living master of the art of hist...         1/1          571   \n8  \"for his work on malaria, by which he has show...         1/1          294   \n9                                                NaN         1/2          464   \n\n  laureate_type                           full_name  birth_date  \\\n0    Individual        Jacobus Henricus van 't Hoff  1852-08-30   \n1    Individual                     Sully Prudhomme  1839-03-16   \n2    Individual              Emil Adolf von Behring  1854-03-15   \n3    Individual                   Jean Henry Dunant  1828-05-08   \n4    Individual                      Frédéric Passy  1822-05-20   \n5    Individual              Wilhelm Conrad Röntgen  1845-03-27   \n6    Individual                Hermann Emil Fischer  1852-10-09   \n7    Individual  Christian Matthias Theodor Mommsen  1817-11-30   \n8    Individual                         Ronald Ross  1857-05-13   \n9    Individual                       Élie Ducommun  1833-02-19   \n\n           birth_city        birth_country   sex   organization_name  \\\n0           Rotterdam          Netherlands  Male   Berlin University   \n1               Paris               France  Male                 NaN   \n2   Hansdorf (Lawice)     Prussia (Poland)  Male  Marburg University   \n3              Geneva          Switzerland  Male                 NaN   \n4               Paris               France  Male                 NaN   \n5  Lennep (Remscheid)    Prussia (Germany)  Male   Munich University   \n6          Euskirchen    Prussia (Germany)  Male   Berlin University   \n7             Garding  Schleswig (Germany)  Male                 NaN   \n8              Almora                India  Male  University College   \n9              Geneva          Switzerland  Male                 NaN   \n\n  organization_city organization_country  death_date      death_city  \\\n0            Berlin              Germany  1911-03-01          Berlin   \n1               NaN                  NaN  1907-09-07        Châtenay   \n2           Marburg              Germany  1917-03-31         Marburg   \n3               NaN                  NaN  1910-10-30          Heiden   \n4               NaN                  NaN  1912-06-12           Paris   \n5            Munich              Germany  1923-02-10          Munich   \n6            Berlin              Germany  1919-07-15          Berlin   \n7               NaN                  NaN  1903-11-01  Charlottenburg   \n8         Liverpool       United Kingdom  1932-09-16    Putney Heath   \n9               NaN                  NaN  1906-12-07            Bern   \n\n    death_country  \n0         Germany  \n1          France  \n2         Germany  \n3     Switzerland  \n4          France  \n5         Germany  \n6         Germany  \n7         Germany  \n8  United Kingdom  \n9     Switzerland  ",
            "text/html": "<div>\n<style scoped>\n    .dataframe tbody tr th:only-of-type {\n        vertical-align: middle;\n    }\n\n    .dataframe tbody tr th {\n        vertical-align: top;\n    }\n\n    .dataframe thead th {\n        text-align: right;\n    }\n</style>\n<table border=\"1\" class=\"dataframe\">\n  <thead>\n    <tr style=\"text-align: right;\">\n      <th></th>\n      <th>year</th>\n      <th>category</th>\n      <th>prize</th>\n      <th>motivation</th>\n      <th>prize_share</th>\n      <th>laureate_id</th>\n      <th>laureate_type</th>\n      <th>full_name</th>\n      <th>birth_date</th>\n      <th>birth_city</th>\n      <th>birth_country</th>\n      <th>sex</th>\n      <th>organization_name</th>\n      <th>organization_city</th>\n      <th>organization_country</th>\n      <th>death_date</th>\n      <th>death_city</th>\n      <th>death_country</th>\n    </tr>\n  </thead>\n  <tbody>\n    <tr>\n      <th>0</th>\n      <td>1901</td>\n      <td>Chemistry</td>\n      <td>The Nobel Prize in Chemistry 1901</td>\n      <td>\"in recognition of the extraordinary services ...</td>\n      <td>1/1</td>\n      <td>160</td>\n      <td>Individual</td>\n      <td>Jacobus Henricus van 't Hoff</td>\n      <td>1852-08-30</td>\n      <td>Rotterdam</td>\n      <td>Netherlands</td>\n      <td>Male</td>\n      <td>Berlin University</td>\n      <td>Berlin</td>\n      <td>Germany</td>\n      <td>1911-03-01</td>\n      <td>Berlin</td>\n      <td>Germany</td>\n    </tr>\n    <tr>\n      <th>1</th>\n      <td>1901</td>\n      <td>Literature</td>\n      <td>The Nobel Prize in Literature 1901</td>\n      <td>\"in special recognition of his poetic composit...</td>\n      <td>1/1</td>\n      <td>569</td>\n      <td>Individual</td>\n      <td>Sully Prudhomme</td>\n      <td>1839-03-16</td>\n      <td>Paris</td>\n      <td>France</td>\n      <td>Male</td>\n      <td>NaN</td>\n      <td>NaN</td>\n      <td>NaN</td>\n      <td>1907-09-07</td>\n      <td>Châtenay</td>\n      <td>France</td>\n    </tr>\n    <tr>\n      <th>2</th>\n      <td>1901</td>\n      <td>Medicine</td>\n      <td>The Nobel Prize in Physiology or Medicine 1901</td>\n      <td>\"for his work on serum therapy, especially its...</td>\n      <td>1/1</td>\n      <td>293</td>\n      <td>Individual</td>\n      <td>Emil Adolf von Behring</td>\n      <td>1854-03-15</td>\n      <td>Hansdorf (Lawice)</td>\n      <td>Prussia (Poland)</td>\n      <td>Male</td>\n      <td>Marburg University</td>\n      <td>Marburg</td>\n      <td>Germany</td>\n      <td>1917-03-31</td>\n      <td>Marburg</td>\n      <td>Germany</td>\n    </tr>\n    <tr>\n      <th>3</th>\n      <td>1901</td>\n      <td>Peace</td>\n      <td>The Nobel Peace Prize 1901</td>\n      <td>NaN</td>\n      <td>1/2</td>\n      <td>462</td>\n      <td>Individual</td>\n      <td>Jean Henry Dunant</td>\n      <td>1828-05-08</td>\n      <td>Geneva</td>\n      <td>Switzerland</td>\n      <td>Male</td>\n      <td>NaN</td>\n      <td>NaN</td>\n      <td>NaN</td>\n      <td>1910-10-30</td>\n      <td>Heiden</td>\n      <td>Switzerland</td>\n    </tr>\n    <tr>\n      <th>4</th>\n      <td>1901</td>\n      <td>Peace</td>\n      <td>The Nobel Peace Prize 1901</td>\n      <td>NaN</td>\n      <td>1/2</td>\n      <td>463</td>\n      <td>Individual</td>\n      <td>Frédéric Passy</td>\n      <td>1822-05-20</td>\n      <td>Paris</td>\n      <td>France</td>\n      <td>Male</td>\n      <td>NaN</td>\n      <td>NaN</td>\n      <td>NaN</td>\n      <td>1912-06-12</td>\n      <td>Paris</td>\n      <td>France</td>\n    </tr>\n    <tr>\n      <th>5</th>\n      <td>1901</td>\n      <td>Physics</td>\n      <td>The Nobel Prize in Physics 1901</td>\n      <td>\"in recognition of the extraordinary services ...</td>\n      <td>1/1</td>\n      <td>1</td>\n      <td>Individual</td>\n      <td>Wilhelm Conrad Röntgen</td>\n      <td>1845-03-27</td>\n      <td>Lennep (Remscheid)</td>\n      <td>Prussia (Germany)</td>\n      <td>Male</td>\n      <td>Munich University</td>\n      <td>Munich</td>\n      <td>Germany</td>\n      <td>1923-02-10</td>\n      <td>Munich</td>\n      <td>Germany</td>\n    </tr>\n    <tr>\n      <th>6</th>\n      <td>1902</td>\n      <td>Chemistry</td>\n      <td>The Nobel Prize in Chemistry 1902</td>\n      <td>\"in recognition of the extraordinary services ...</td>\n      <td>1/1</td>\n      <td>161</td>\n      <td>Individual</td>\n      <td>Hermann Emil Fischer</td>\n      <td>1852-10-09</td>\n      <td>Euskirchen</td>\n      <td>Prussia (Germany)</td>\n      <td>Male</td>\n      <td>Berlin University</td>\n      <td>Berlin</td>\n      <td>Germany</td>\n      <td>1919-07-15</td>\n      <td>Berlin</td>\n      <td>Germany</td>\n    </tr>\n    <tr>\n      <th>7</th>\n      <td>1902</td>\n      <td>Literature</td>\n      <td>The Nobel Prize in Literature 1902</td>\n      <td>\"the greatest living master of the art of hist...</td>\n      <td>1/1</td>\n      <td>571</td>\n      <td>Individual</td>\n      <td>Christian Matthias Theodor Mommsen</td>\n      <td>1817-11-30</td>\n      <td>Garding</td>\n      <td>Schleswig (Germany)</td>\n      <td>Male</td>\n      <td>NaN</td>\n      <td>NaN</td>\n      <td>NaN</td>\n      <td>1903-11-01</td>\n      <td>Charlottenburg</td>\n      <td>Germany</td>\n    </tr>\n    <tr>\n      <th>8</th>\n      <td>1902</td>\n      <td>Medicine</td>\n      <td>The Nobel Prize in Physiology or Medicine 1902</td>\n      <td>\"for his work on malaria, by which he has show...</td>\n      <td>1/1</td>\n      <td>294</td>\n      <td>Individual</td>\n      <td>Ronald Ross</td>\n      <td>1857-05-13</td>\n      <td>Almora</td>\n      <td>India</td>\n      <td>Male</td>\n      <td>University College</td>\n      <td>Liverpool</td>\n      <td>United Kingdom</td>\n      <td>1932-09-16</td>\n      <td>Putney Heath</td>\n      <td>United Kingdom</td>\n    </tr>\n    <tr>\n      <th>9</th>\n      <td>1902</td>\n      <td>Peace</td>\n      <td>The Nobel Peace Prize 1902</td>\n      <td>NaN</td>\n      <td>1/2</td>\n      <td>464</td>\n      <td>Individual</td>\n      <td>Élie Ducommun</td>\n      <td>1833-02-19</td>\n      <td>Geneva</td>\n      <td>Switzerland</td>\n      <td>Male</td>\n      <td>NaN</td>\n      <td>NaN</td>\n      <td>NaN</td>\n      <td>1906-12-07</td>\n      <td>Bern</td>\n      <td>Switzerland</td>\n    </tr>\n  </tbody>\n</table>\n</div>"
          },
          "metadata": {}
        }
      ],
      "execution_count": 7
    },
    {
      "cell_type": "code",
      "source": "",
      "metadata": {
        "trusted": true
      },
      "outputs": [],
      "execution_count": null
    }
  ]
}